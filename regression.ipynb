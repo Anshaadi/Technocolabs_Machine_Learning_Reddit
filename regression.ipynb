{
 "cells": [
  {
   "cell_type": "code",
   "execution_count": 1,
   "metadata": {},
   "outputs": [],
   "source": [
    "import nltk"
   ]
  },
  {
   "cell_type": "code",
   "execution_count": 2,
   "metadata": {},
   "outputs": [],
   "source": [
    "from numpy import array\n",
    "from numpy import asarray\n",
    "from numpy import zeros\n",
    "import pandas as pd\n",
    "from sklearn.model_selection import train_test_split\n",
    "import numpy as np\n",
    "from collections import deque\n",
    "import matplotlib.pyplot as plt"
   ]
  },
  {
   "cell_type": "code",
   "execution_count": 3,
   "metadata": {},
   "outputs": [
    {
     "name": "stderr",
     "output_type": "stream",
     "text": [
      "Using TensorFlow backend.\n"
     ]
    }
   ],
   "source": [
    "from keras.preprocessing.text import Tokenizer\n",
    "from keras.preprocessing.sequence import pad_sequences\n",
    "import pickle"
   ]
  },
  {
   "cell_type": "code",
   "execution_count": 4,
   "metadata": {},
   "outputs": [],
   "source": [
    "data = pd.read_csv('data.csv')"
   ]
  },
  {
   "cell_type": "code",
   "execution_count": 5,
   "metadata": {},
   "outputs": [],
   "source": [
    "data.dropna(inplace=True)"
   ]
  },
  {
   "cell_type": "code",
   "execution_count": 6,
   "metadata": {},
   "outputs": [],
   "source": [
    "data.drop(['Unnamed: 0','Upvote_ratio'], axis=1, inplace=True)"
   ]
  },
  {
   "cell_type": "code",
   "execution_count": 7,
   "metadata": {},
   "outputs": [
    {
     "name": "stdout",
     "output_type": "stream",
     "text": [
      "Title word count lengths: \n",
      " Min: 4 \n",
      " Max: 56 \n",
      " Average: 12.79476861167002\n"
     ]
    },
    {
     "data": {
      "image/png": "[encoded data removed]",
      "text/plain": [
       "<Figure size 1440x1080 with 1 Axes>"
      ]
     },
     "metadata": {
      "needs_background": "light"
     },
     "output_type": "display_data"
    }
   ],
   "source": [
    "plt.figure(figsize=(20,15))\n",
    "plt.subplot(221)\n",
    "title_word_lengths = [len(str(data.Title.iloc[i]).split(' ')) for i in range(len(data))]\n",
    "max_title_word_length = max(title_word_lengths)\n",
    "min_title_word_length = min(title_word_lengths)\n",
    "average_title_word_length = sum(title_word_lengths)/len(title_word_lengths)\n",
    "plt.hist(title_word_lengths, bins = 30)\n",
    "print('Title word count lengths: \\n Min: {} \\n Max: {} \\n Average: {}'.format(min_title_word_length, max_title_word_length, average_title_word_length))\n"
   ]
  },
  {
   "cell_type": "code",
   "execution_count": 8,
   "metadata": {},
   "outputs": [],
   "source": [
    "from sklearn.feature_extraction.text import ENGLISH_STOP_WORDS\n",
    "import re\n",
    "\n",
    "from nltk.stem import WordNetLemmatizer,PorterStemmer\n",
    "lemmatizer = WordNetLemmatizer()\n",
    "stemmer = PorterStemmer()\n",
    "\n",
    "def text_preprocess(text):\n",
    "    text = re.sub(r'[^\\w\\s]', '', text) \n",
    "    l_text = [word for word in text.lower().split() if word not in ENGLISH_STOP_WORDS]\n",
    "    stem_words = [stemmer.stem(w) for w in l_text]\n",
    "    lemma_words = [lemmatizer.lemmatize(w) for w in l_text]\n",
    "\n",
    "    return \" \".join(lemma_words)\n",
    "\n",
    "data['Title'] = data['Title'].map(lambda com : text_preprocess(com))"
   ]
  },
  {
   "cell_type": "code",
   "execution_count": 9,
   "metadata": {},
   "outputs": [
    {
     "data": {
      "text/html": [
       "<div>\n",
       "<style scoped>\n",
       "    .dataframe tbody tr th:only-of-type {\n",
       "        vertical-align: middle;\n",
       "    }\n",
       "\n",
       "    .dataframe tbody tr th {\n",
       "        vertical-align: top;\n",
       "    }\n",
       "\n",
       "    .dataframe thead th {\n",
       "        text-align: right;\n",
       "    }\n",
       "</style>\n",
       "<table border=\"1\" class=\"dataframe\">\n",
       "  <thead>\n",
       "    <tr style=\"text-align: right;\">\n",
       "      <th></th>\n",
       "      <th>Title</th>\n",
       "      <th>Score</th>\n",
       "      <th>Gilded</th>\n",
       "      <th>Over_18</th>\n",
       "      <th>Number_of_Comments</th>\n",
       "      <th>neg</th>\n",
       "      <th>neu</th>\n",
       "      <th>pos</th>\n",
       "      <th>compound</th>\n",
       "    </tr>\n",
       "  </thead>\n",
       "  <tbody>\n",
       "    <tr>\n",
       "      <th>0</th>\n",
       "      <td>whats fcked thing saw sleepover</td>\n",
       "      <td>40112</td>\n",
       "      <td>1</td>\n",
       "      <td>True</td>\n",
       "      <td>11626</td>\n",
       "      <td>0.000</td>\n",
       "      <td>1.000</td>\n",
       "      <td>0.000</td>\n",
       "      <td>0.0000</td>\n",
       "    </tr>\n",
       "    <tr>\n",
       "      <th>1</th>\n",
       "      <td>men reddit question regarding woman anatomy</td>\n",
       "      <td>3696</td>\n",
       "      <td>0</td>\n",
       "      <td>False</td>\n",
       "      <td>4944</td>\n",
       "      <td>0.098</td>\n",
       "      <td>0.902</td>\n",
       "      <td>0.000</td>\n",
       "      <td>-0.0772</td>\n",
       "    </tr>\n",
       "    <tr>\n",
       "      <th>2</th>\n",
       "      <td>cinematic death best oompa loompa song</td>\n",
       "      <td>4213</td>\n",
       "      <td>0</td>\n",
       "      <td>False</td>\n",
       "      <td>711</td>\n",
       "      <td>0.228</td>\n",
       "      <td>0.526</td>\n",
       "      <td>0.246</td>\n",
       "      <td>0.0772</td>\n",
       "    </tr>\n",
       "    <tr>\n",
       "      <th>3</th>\n",
       "      <td>fun fact</td>\n",
       "      <td>77810</td>\n",
       "      <td>0</td>\n",
       "      <td>False</td>\n",
       "      <td>33082</td>\n",
       "      <td>0.351</td>\n",
       "      <td>0.649</td>\n",
       "      <td>0.000</td>\n",
       "      <td>-0.4023</td>\n",
       "    </tr>\n",
       "    <tr>\n",
       "      <th>4</th>\n",
       "      <td>apart accent tell british</td>\n",
       "      <td>6295</td>\n",
       "      <td>0</td>\n",
       "      <td>False</td>\n",
       "      <td>6408</td>\n",
       "      <td>0.000</td>\n",
       "      <td>1.000</td>\n",
       "      <td>0.000</td>\n",
       "      <td>0.0000</td>\n",
       "    </tr>\n",
       "  </tbody>\n",
       "</table>\n",
       "</div>"
      ],
      "text/plain": [
       "                                         Title  Score  Gilded  Over_18  \\\n",
       "0              whats fcked thing saw sleepover  40112       1     True   \n",
       "1  men reddit question regarding woman anatomy   3696       0    False   \n",
       "2       cinematic death best oompa loompa song   4213       0    False   \n",
       "3                                     fun fact  77810       0    False   \n",
       "4                    apart accent tell british   6295       0    False   \n",
       "\n",
       "   Number_of_Comments    neg    neu    pos  compound  \n",
       "0               11626  0.000  1.000  0.000    0.0000  \n",
       "1                4944  0.098  0.902  0.000   -0.0772  \n",
       "2                 711  0.228  0.526  0.246    0.0772  \n",
       "3               33082  0.351  0.649  0.000   -0.4023  \n",
       "4                6408  0.000  1.000  0.000    0.0000  "
      ]
     },
     "execution_count": 9,
     "metadata": {},
     "output_type": "execute_result"
    }
   ],
   "source": [
    "data.head()"
   ]
  },
  {
   "cell_type": "code",
   "execution_count": 10,
   "metadata": {},
   "outputs": [],
   "source": [
    "i = 0\n",
    "\n",
    "predicted_value = []\n",
    "\n",
    "while i<len(data):\n",
    "  if (data.loc[i]['compound'] >= 0.5):\n",
    "    predicted_value.append('positive')\n",
    "    i = i+1\n",
    "\n",
    "  elif (data.loc[i]['compound'] >= 0) & (data.loc[i]['compound'] <= 0.5):\n",
    "    predicted_value.append('neutral')\n",
    "    i = i+1\n",
    "\n",
    "  elif (data.loc[i]['compound'] <= 0):\n",
    "    predicted_value.append('negative')\n",
    "    i = i+1"
   ]
  },
  {
   "cell_type": "code",
   "execution_count": 11,
   "metadata": {},
   "outputs": [],
   "source": [
    "data['Predicted_value'] = predicted_value"
   ]
  },
  {
   "cell_type": "code",
   "execution_count": 12,
   "metadata": {},
   "outputs": [
    {
     "data": {
      "text/html": [
       "<div>\n",
       "<style scoped>\n",
       "    .dataframe tbody tr th:only-of-type {\n",
       "        vertical-align: middle;\n",
       "    }\n",
       "\n",
       "    .dataframe tbody tr th {\n",
       "        vertical-align: top;\n",
       "    }\n",
       "\n",
       "    .dataframe thead th {\n",
       "        text-align: right;\n",
       "    }\n",
       "</style>\n",
       "<table border=\"1\" class=\"dataframe\">\n",
       "  <thead>\n",
       "    <tr style=\"text-align: right;\">\n",
       "      <th></th>\n",
       "      <th>Title</th>\n",
       "      <th>Score</th>\n",
       "      <th>Gilded</th>\n",
       "      <th>Over_18</th>\n",
       "      <th>Number_of_Comments</th>\n",
       "      <th>neg</th>\n",
       "      <th>neu</th>\n",
       "      <th>pos</th>\n",
       "      <th>compound</th>\n",
       "      <th>Predicted_value</th>\n",
       "    </tr>\n",
       "  </thead>\n",
       "  <tbody>\n",
       "    <tr>\n",
       "      <th>0</th>\n",
       "      <td>whats fcked thing saw sleepover</td>\n",
       "      <td>40112</td>\n",
       "      <td>1</td>\n",
       "      <td>True</td>\n",
       "      <td>11626</td>\n",
       "      <td>0.000</td>\n",
       "      <td>1.000</td>\n",
       "      <td>0.000</td>\n",
       "      <td>0.0000</td>\n",
       "      <td>neutral</td>\n",
       "    </tr>\n",
       "    <tr>\n",
       "      <th>1</th>\n",
       "      <td>men reddit question regarding woman anatomy</td>\n",
       "      <td>3696</td>\n",
       "      <td>0</td>\n",
       "      <td>False</td>\n",
       "      <td>4944</td>\n",
       "      <td>0.098</td>\n",
       "      <td>0.902</td>\n",
       "      <td>0.000</td>\n",
       "      <td>-0.0772</td>\n",
       "      <td>negative</td>\n",
       "    </tr>\n",
       "    <tr>\n",
       "      <th>2</th>\n",
       "      <td>cinematic death best oompa loompa song</td>\n",
       "      <td>4213</td>\n",
       "      <td>0</td>\n",
       "      <td>False</td>\n",
       "      <td>711</td>\n",
       "      <td>0.228</td>\n",
       "      <td>0.526</td>\n",
       "      <td>0.246</td>\n",
       "      <td>0.0772</td>\n",
       "      <td>neutral</td>\n",
       "    </tr>\n",
       "    <tr>\n",
       "      <th>3</th>\n",
       "      <td>fun fact</td>\n",
       "      <td>77810</td>\n",
       "      <td>0</td>\n",
       "      <td>False</td>\n",
       "      <td>33082</td>\n",
       "      <td>0.351</td>\n",
       "      <td>0.649</td>\n",
       "      <td>0.000</td>\n",
       "      <td>-0.4023</td>\n",
       "      <td>negative</td>\n",
       "    </tr>\n",
       "    <tr>\n",
       "      <th>4</th>\n",
       "      <td>apart accent tell british</td>\n",
       "      <td>6295</td>\n",
       "      <td>0</td>\n",
       "      <td>False</td>\n",
       "      <td>6408</td>\n",
       "      <td>0.000</td>\n",
       "      <td>1.000</td>\n",
       "      <td>0.000</td>\n",
       "      <td>0.0000</td>\n",
       "      <td>neutral</td>\n",
       "    </tr>\n",
       "  </tbody>\n",
       "</table>\n",
       "</div>"
      ],
      "text/plain": [
       "                                         Title  Score  Gilded  Over_18  \\\n",
       "0              whats fcked thing saw sleepover  40112       1     True   \n",
       "1  men reddit question regarding woman anatomy   3696       0    False   \n",
       "2       cinematic death best oompa loompa song   4213       0    False   \n",
       "3                                     fun fact  77810       0    False   \n",
       "4                    apart accent tell british   6295       0    False   \n",
       "\n",
       "   Number_of_Comments    neg    neu    pos  compound Predicted_value  \n",
       "0               11626  0.000  1.000  0.000    0.0000         neutral  \n",
       "1                4944  0.098  0.902  0.000   -0.0772        negative  \n",
       "2                 711  0.228  0.526  0.246    0.0772         neutral  \n",
       "3               33082  0.351  0.649  0.000   -0.4023        negative  \n",
       "4                6408  0.000  1.000  0.000    0.0000         neutral  "
      ]
     },
     "execution_count": 12,
     "metadata": {},
     "output_type": "execute_result"
    }
   ],
   "source": [
    "data.head()"
   ]
  },
  {
   "cell_type": "code",
   "execution_count": 13,
   "metadata": {},
   "outputs": [],
   "source": [
    "data.drop(['neg', 'neu', 'pos', 'compound'], axis=1, inplace=True)"
   ]
  },
  {
   "cell_type": "code",
   "execution_count": 14,
   "metadata": {},
   "outputs": [],
   "source": [
    "X = data.drop(['Score'], axis=1)\n",
    "y = data['Score']"
   ]
  },
  {
   "cell_type": "code",
   "execution_count": 15,
   "metadata": {},
   "outputs": [
    {
     "data": {
      "text/plain": [
       "160"
      ]
     },
     "execution_count": 15,
     "metadata": {},
     "output_type": "execute_result"
    }
   ],
   "source": [
    "lengths = max([len(x) for x in X.Title])\n",
    "lengths\n"
   ]
  },
  {
   "cell_type": "code",
   "execution_count": 16,
   "metadata": {},
   "outputs": [],
   "source": [
    "X_train, X_test, y_train, y_test = train_test_split(X, y, test_size=0.40, random_state=42)"
   ]
  },
  {
   "cell_type": "code",
   "execution_count": 17,
   "metadata": {},
   "outputs": [],
   "source": [
    "tokenizer = Tokenizer(num_words=5000)\n",
    "tokenizer.fit_on_texts(X_train[\"Title\"])"
   ]
  },
  {
   "cell_type": "code",
   "execution_count": 18,
   "metadata": {},
   "outputs": [],
   "source": [
    "train_title = tokenizer.texts_to_sequences(X_train[\"Title\"])\n",
    "test_title = tokenizer.texts_to_sequences(X_test[\"Title\"])\n",
    "\n",
    "vocab_size = len(tokenizer.word_index) + 1"
   ]
  },
  {
   "cell_type": "code",
   "execution_count": 19,
   "metadata": {},
   "outputs": [],
   "source": [
    "indixes = tokenizer.word_index\n",
    "tokens = {k:[indixes[k]] for k in indixes}\n",
    "df_tokens = pd.DataFrame(tokens)\n",
    "df_tokens.to_csv('tokens.csv', header=True, index=False)"
   ]
  },
  {
   "cell_type": "code",
   "execution_count": 20,
   "metadata": {},
   "outputs": [],
   "source": [
    "maxlen = 300\n",
    "\n",
    "train_title = pad_sequences(train_title, padding='post', maxlen=maxlen)\n",
    "test_title = pad_sequences(test_title, padding='post', maxlen=maxlen)"
   ]
  },
  {
   "cell_type": "code",
   "execution_count": 21,
   "metadata": {},
   "outputs": [],
   "source": [
    "embeddings_dictionary = dict()\n",
    "\n",
    "glove_file = open('glove.6B.100d.txt', encoding=\"utf8\")\n",
    "\n",
    "for line in glove_file:\n",
    "    records = line.split()\n",
    "    word = records[0]\n",
    "    vector_dimensions = asarray(records[1:], dtype='float32')\n",
    "    embeddings_dictionary[word] = vector_dimensions\n",
    "glove_file.close()"
   ]
  },
  {
   "cell_type": "code",
   "execution_count": 22,
   "metadata": {},
   "outputs": [],
   "source": [
    "embedding_matrix = zeros((vocab_size, 100))\n",
    "for word, index in tokenizer.word_index.items():\n",
    "    embedding_vector = embeddings_dictionary.get(word)\n",
    "    if embedding_vector is not None:\n",
    "        embedding_matrix[index] = embedding_vector"
   ]
  },
  {
   "cell_type": "code",
   "execution_count": 23,
   "metadata": {},
   "outputs": [],
   "source": [
    "df = pd.DataFrame(data=embedding_matrix.astype(float))\n",
    "df.to_csv('embedding.csv', sep=' ', header=True, float_format='%.2f', index=False)"
   ]
  },
  {
   "cell_type": "code",
   "execution_count": 24,
   "metadata": {},
   "outputs": [],
   "source": [
    "train_new = {}\n",
    "for i, sentence in enumerate(train_title):\n",
    "    vectors = []\n",
    "    for n in sentence:\n",
    "        vectors.append(embedding_matrix[n])\n",
    "    train_new[i] = vectors"
   ]
  },
  {
   "cell_type": "code",
   "execution_count": 25,
   "metadata": {},
   "outputs": [],
   "source": [
    "test_new = {}\n",
    "for i, sentence in enumerate(test_title):\n",
    "    vectors = []\n",
    "    for n in sentence:\n",
    "        vectors.append(embedding_matrix[n])\n",
    "    test_new[i] = vectors"
   ]
  },
  {
   "cell_type": "code",
   "execution_count": 26,
   "metadata": {},
   "outputs": [],
   "source": [
    "X_train_df = []\n",
    "for key in train_new:\n",
    "    arr = np.array(train_new[key])\n",
    "    X_train_df.append(np.mean(arr, axis=0))"
   ]
  },
  {
   "cell_type": "code",
   "execution_count": 27,
   "metadata": {},
   "outputs": [],
   "source": [
    "X_test_df = []\n",
    "for key in test_new:\n",
    "    arr = np.array(test_new[key])\n",
    "    X_test_df.append(np.mean(arr, axis=0))"
   ]
  },
  {
   "cell_type": "code",
   "execution_count": 28,
   "metadata": {},
   "outputs": [],
   "source": [
    "X_train_df = pd.DataFrame(np.array(X_train_df))\n",
    "X_test_df = pd.DataFrame(np.array(X_test_df))"
   ]
  },
  {
   "cell_type": "code",
   "execution_count": 29,
   "metadata": {},
   "outputs": [],
   "source": [
    "from sklearn.preprocessing import OneHotEncoder\n",
    "\n",
    "categories = ['Over_18', 'Predicted_value']\n",
    "enc = OneHotEncoder(handle_unknown='ignore')\n",
    "enc.fit(X_train[categories])\n",
    "pickle.dump(enc, open('encoding.pkl','wb'))"
   ]
  },
  {
   "cell_type": "code",
   "execution_count": 30,
   "metadata": {},
   "outputs": [],
   "source": [
    "col_names = [j for sub in enc.categories_ for j in sub] "
   ]
  },
  {
   "cell_type": "code",
   "execution_count": 31,
   "metadata": {},
   "outputs": [
    {
     "data": {
      "text/plain": [
       "[False, True, 'negative', 'neutral', 'positive']"
      ]
     },
     "execution_count": 31,
     "metadata": {},
     "output_type": "execute_result"
    }
   ],
   "source": [
    "col_names"
   ]
  },
  {
   "cell_type": "code",
   "execution_count": 32,
   "metadata": {},
   "outputs": [],
   "source": [
    "train_encoded = enc.transform(X_train[categories])\n",
    "test_encoded = enc.transform(X_test[categories])"
   ]
  },
  {
   "cell_type": "code",
   "execution_count": 33,
   "metadata": {},
   "outputs": [
    {
     "name": "stderr",
     "output_type": "stream",
     "text": [
      "C:\\Users\\Dell\\anaconda3\\lib\\site-packages\\pandas\\core\\frame.py:3997: SettingWithCopyWarning: \n",
      "A value is trying to be set on a copy of a slice from a DataFrame\n",
      "\n",
      "See the caveats in the documentation: https://pandas.pydata.org/pandas-docs/stable/user_guide/indexing.html#returning-a-view-versus-a-copy\n",
      "  errors=errors,\n"
     ]
    }
   ],
   "source": [
    "X_train.drop([\"Title\", 'Over_18', 'Predicted_value'], axis=1, inplace=True)\n",
    "X_test.drop([\"Title\", 'Over_18', 'Predicted_value'], axis=1, inplace=True)"
   ]
  },
  {
   "cell_type": "code",
   "execution_count": 34,
   "metadata": {},
   "outputs": [],
   "source": [
    "X_train.reset_index(inplace=True, drop=True)\n",
    "X_test.reset_index(inplace=True, drop=True)"
   ]
  },
  {
   "cell_type": "code",
   "execution_count": 35,
   "metadata": {},
   "outputs": [],
   "source": [
    "train = pd.DataFrame(train_encoded.todense(), columns=col_names)\n",
    "test = pd.DataFrame(test_encoded.todense(), columns=col_names)"
   ]
  },
  {
   "cell_type": "code",
   "execution_count": 36,
   "metadata": {},
   "outputs": [
    {
     "data": {
      "text/html": [
       "<div>\n",
       "<style scoped>\n",
       "    .dataframe tbody tr th:only-of-type {\n",
       "        vertical-align: middle;\n",
       "    }\n",
       "\n",
       "    .dataframe tbody tr th {\n",
       "        vertical-align: top;\n",
       "    }\n",
       "\n",
       "    .dataframe thead th {\n",
       "        text-align: right;\n",
       "    }\n",
       "</style>\n",
       "<table border=\"1\" class=\"dataframe\">\n",
       "  <thead>\n",
       "    <tr style=\"text-align: right;\">\n",
       "      <th></th>\n",
       "      <th>False</th>\n",
       "      <th>True</th>\n",
       "      <th>negative</th>\n",
       "      <th>neutral</th>\n",
       "      <th>positive</th>\n",
       "    </tr>\n",
       "  </thead>\n",
       "  <tbody>\n",
       "    <tr>\n",
       "      <th>0</th>\n",
       "      <td>1.0</td>\n",
       "      <td>0.0</td>\n",
       "      <td>0.0</td>\n",
       "      <td>1.0</td>\n",
       "      <td>0.0</td>\n",
       "    </tr>\n",
       "    <tr>\n",
       "      <th>1</th>\n",
       "      <td>1.0</td>\n",
       "      <td>0.0</td>\n",
       "      <td>0.0</td>\n",
       "      <td>1.0</td>\n",
       "      <td>0.0</td>\n",
       "    </tr>\n",
       "    <tr>\n",
       "      <th>2</th>\n",
       "      <td>1.0</td>\n",
       "      <td>0.0</td>\n",
       "      <td>0.0</td>\n",
       "      <td>0.0</td>\n",
       "      <td>1.0</td>\n",
       "    </tr>\n",
       "    <tr>\n",
       "      <th>3</th>\n",
       "      <td>1.0</td>\n",
       "      <td>0.0</td>\n",
       "      <td>0.0</td>\n",
       "      <td>1.0</td>\n",
       "      <td>0.0</td>\n",
       "    </tr>\n",
       "    <tr>\n",
       "      <th>4</th>\n",
       "      <td>1.0</td>\n",
       "      <td>0.0</td>\n",
       "      <td>1.0</td>\n",
       "      <td>0.0</td>\n",
       "      <td>0.0</td>\n",
       "    </tr>\n",
       "  </tbody>\n",
       "</table>\n",
       "</div>"
      ],
      "text/plain": [
       "   False  True  negative  neutral  positive\n",
       "0    1.0   0.0       0.0      1.0       0.0\n",
       "1    1.0   0.0       0.0      1.0       0.0\n",
       "2    1.0   0.0       0.0      0.0       1.0\n",
       "3    1.0   0.0       0.0      1.0       0.0\n",
       "4    1.0   0.0       1.0      0.0       0.0"
      ]
     },
     "execution_count": 36,
     "metadata": {},
     "output_type": "execute_result"
    }
   ],
   "source": [
    "train.head()"
   ]
  },
  {
   "cell_type": "code",
   "execution_count": 37,
   "metadata": {},
   "outputs": [],
   "source": [
    "X_train = pd.concat([X_train, X_train_df, train], axis=1)\n",
    "X_test = pd.concat([X_test, X_test_df, test], axis=1)"
   ]
  },
  {
   "cell_type": "code",
   "execution_count": 38,
   "metadata": {},
   "outputs": [
    {
     "data": {
      "text/html": [
       "<div>\n",
       "<style scoped>\n",
       "    .dataframe tbody tr th:only-of-type {\n",
       "        vertical-align: middle;\n",
       "    }\n",
       "\n",
       "    .dataframe tbody tr th {\n",
       "        vertical-align: top;\n",
       "    }\n",
       "\n",
       "    .dataframe thead th {\n",
       "        text-align: right;\n",
       "    }\n",
       "</style>\n",
       "<table border=\"1\" class=\"dataframe\">\n",
       "  <thead>\n",
       "    <tr style=\"text-align: right;\">\n",
       "      <th></th>\n",
       "      <th>Gilded</th>\n",
       "      <th>Number_of_Comments</th>\n",
       "      <th>0</th>\n",
       "      <th>1</th>\n",
       "      <th>2</th>\n",
       "      <th>3</th>\n",
       "      <th>4</th>\n",
       "      <th>5</th>\n",
       "      <th>6</th>\n",
       "      <th>7</th>\n",
       "      <th>...</th>\n",
       "      <th>95</th>\n",
       "      <th>96</th>\n",
       "      <th>97</th>\n",
       "      <th>98</th>\n",
       "      <th>99</th>\n",
       "      <th>False</th>\n",
       "      <th>True</th>\n",
       "      <th>negative</th>\n",
       "      <th>neutral</th>\n",
       "      <th>positive</th>\n",
       "    </tr>\n",
       "  </thead>\n",
       "  <tbody>\n",
       "    <tr>\n",
       "      <th>0</th>\n",
       "      <td>0</td>\n",
       "      <td>0</td>\n",
       "      <td>-0.001510</td>\n",
       "      <td>0.006157</td>\n",
       "      <td>0.001292</td>\n",
       "      <td>-0.003419</td>\n",
       "      <td>-0.006412</td>\n",
       "      <td>0.017545</td>\n",
       "      <td>-0.007559</td>\n",
       "      <td>0.000912</td>\n",
       "      <td>...</td>\n",
       "      <td>-0.013040</td>\n",
       "      <td>-0.007526</td>\n",
       "      <td>-0.010070</td>\n",
       "      <td>0.014180</td>\n",
       "      <td>0.007112</td>\n",
       "      <td>1.0</td>\n",
       "      <td>0.0</td>\n",
       "      <td>0.0</td>\n",
       "      <td>1.0</td>\n",
       "      <td>0.0</td>\n",
       "    </tr>\n",
       "    <tr>\n",
       "      <th>1</th>\n",
       "      <td>0</td>\n",
       "      <td>583</td>\n",
       "      <td>-0.002060</td>\n",
       "      <td>0.000359</td>\n",
       "      <td>0.005241</td>\n",
       "      <td>-0.001344</td>\n",
       "      <td>-0.005016</td>\n",
       "      <td>0.004188</td>\n",
       "      <td>0.002240</td>\n",
       "      <td>-0.001607</td>\n",
       "      <td>...</td>\n",
       "      <td>0.002904</td>\n",
       "      <td>-0.000920</td>\n",
       "      <td>-0.004743</td>\n",
       "      <td>-0.000284</td>\n",
       "      <td>-0.000594</td>\n",
       "      <td>1.0</td>\n",
       "      <td>0.0</td>\n",
       "      <td>0.0</td>\n",
       "      <td>1.0</td>\n",
       "      <td>0.0</td>\n",
       "    </tr>\n",
       "    <tr>\n",
       "      <th>2</th>\n",
       "      <td>0</td>\n",
       "      <td>28</td>\n",
       "      <td>0.000205</td>\n",
       "      <td>0.000067</td>\n",
       "      <td>0.004481</td>\n",
       "      <td>-0.001433</td>\n",
       "      <td>-0.000827</td>\n",
       "      <td>0.005631</td>\n",
       "      <td>-0.000609</td>\n",
       "      <td>-0.002339</td>\n",
       "      <td>...</td>\n",
       "      <td>0.000612</td>\n",
       "      <td>-0.003447</td>\n",
       "      <td>-0.001806</td>\n",
       "      <td>-0.000439</td>\n",
       "      <td>0.006107</td>\n",
       "      <td>1.0</td>\n",
       "      <td>0.0</td>\n",
       "      <td>0.0</td>\n",
       "      <td>0.0</td>\n",
       "      <td>1.0</td>\n",
       "    </tr>\n",
       "    <tr>\n",
       "      <th>3</th>\n",
       "      <td>0</td>\n",
       "      <td>6</td>\n",
       "      <td>-0.000765</td>\n",
       "      <td>0.003307</td>\n",
       "      <td>0.000377</td>\n",
       "      <td>0.003438</td>\n",
       "      <td>0.000818</td>\n",
       "      <td>-0.000574</td>\n",
       "      <td>-0.000413</td>\n",
       "      <td>-0.001568</td>\n",
       "      <td>...</td>\n",
       "      <td>-0.003213</td>\n",
       "      <td>0.000109</td>\n",
       "      <td>-0.005211</td>\n",
       "      <td>0.001439</td>\n",
       "      <td>-0.000141</td>\n",
       "      <td>1.0</td>\n",
       "      <td>0.0</td>\n",
       "      <td>0.0</td>\n",
       "      <td>1.0</td>\n",
       "      <td>0.0</td>\n",
       "    </tr>\n",
       "    <tr>\n",
       "      <th>4</th>\n",
       "      <td>0</td>\n",
       "      <td>13</td>\n",
       "      <td>0.006772</td>\n",
       "      <td>-0.002343</td>\n",
       "      <td>0.002326</td>\n",
       "      <td>-0.005693</td>\n",
       "      <td>-0.011529</td>\n",
       "      <td>0.005797</td>\n",
       "      <td>-0.011139</td>\n",
       "      <td>0.005344</td>\n",
       "      <td>...</td>\n",
       "      <td>-0.000434</td>\n",
       "      <td>-0.005192</td>\n",
       "      <td>0.001533</td>\n",
       "      <td>-0.000589</td>\n",
       "      <td>0.006516</td>\n",
       "      <td>1.0</td>\n",
       "      <td>0.0</td>\n",
       "      <td>1.0</td>\n",
       "      <td>0.0</td>\n",
       "      <td>0.0</td>\n",
       "    </tr>\n",
       "  </tbody>\n",
       "</table>\n",
       "<p>5 rows × 107 columns</p>\n",
       "</div>"
      ],
      "text/plain": [
       "   Gilded  Number_of_Comments         0         1         2         3  \\\n",
       "0       0                   0 -0.001510  0.006157  0.001292 -0.003419   \n",
       "1       0                 583 -0.002060  0.000359  0.005241 -0.001344   \n",
       "2       0                  28  0.000205  0.000067  0.004481 -0.001433   \n",
       "3       0                   6 -0.000765  0.003307  0.000377  0.003438   \n",
       "4       0                  13  0.006772 -0.002343  0.002326 -0.005693   \n",
       "\n",
       "          4         5         6         7  ...        95        96        97  \\\n",
       "0 -0.006412  0.017545 -0.007559  0.000912  ... -0.013040 -0.007526 -0.010070   \n",
       "1 -0.005016  0.004188  0.002240 -0.001607  ...  0.002904 -0.000920 -0.004743   \n",
       "2 -0.000827  0.005631 -0.000609 -0.002339  ...  0.000612 -0.003447 -0.001806   \n",
       "3  0.000818 -0.000574 -0.000413 -0.001568  ... -0.003213  0.000109 -0.005211   \n",
       "4 -0.011529  0.005797 -0.011139  0.005344  ... -0.000434 -0.005192  0.001533   \n",
       "\n",
       "         98        99  False  True  negative  neutral  positive  \n",
       "0  0.014180  0.007112    1.0   0.0       0.0      1.0       0.0  \n",
       "1 -0.000284 -0.000594    1.0   0.0       0.0      1.0       0.0  \n",
       "2 -0.000439  0.006107    1.0   0.0       0.0      0.0       1.0  \n",
       "3  0.001439 -0.000141    1.0   0.0       0.0      1.0       0.0  \n",
       "4 -0.000589  0.006516    1.0   0.0       1.0      0.0       0.0  \n",
       "\n",
       "[5 rows x 107 columns]"
      ]
     },
     "execution_count": 38,
     "metadata": {},
     "output_type": "execute_result"
    }
   ],
   "source": [
    "X_train.head()"
   ]
  },
  {
   "cell_type": "code",
   "execution_count": 39,
   "metadata": {},
   "outputs": [],
   "source": [
    "from sklearn.linear_model import LinearRegression\n",
    "from sklearn.metrics import mean_squared_error, accuracy_score, r2_score, mean_absolute_error\n",
    "from sklearn.tree import DecisionTreeRegressor\n",
    "from sklearn.ensemble import RandomForestRegressor\n",
    "from sklearn.neighbors import KNeighborsRegressor\n",
    "from sklearn import metrics"
   ]
  },
  {
   "cell_type": "markdown",
   "metadata": {},
   "source": [
    "Linear Regression"
   ]
  },
  {
   "cell_type": "code",
   "execution_count": 40,
   "metadata": {},
   "outputs": [
    {
     "name": "stdout",
     "output_type": "stream",
     "text": [
      "RMSE TrainingData =  446.9455379850263\n",
      "RMSE TestData =  2465.504079400032\n",
      "--------------------------------------------------\n",
      "RSquared value on train: 0.984641960924507\n",
      "RSquared value on test: 0.8001890577292178\n"
     ]
    }
   ],
   "source": [
    "lm=LinearRegression()   \n",
    "lm = lm.fit(X_train,y_train)\n",
    "\n",
    "#Traindata Predictions\n",
    "train_pred = lm.predict(X_train)\n",
    "\n",
    "#testdata predictions\n",
    "test_pred = lm.predict(X_test)\n",
    "\n",
    "\n",
    "RMSE_test = np.sqrt(mean_squared_error(y_test, test_pred))\n",
    "RMSE_train= np.sqrt(mean_squared_error(y_train,train_pred))\n",
    "print(\"RMSE TrainingData = \",str(RMSE_train))\n",
    "print(\"RMSE TestData = \",str(RMSE_test))\n",
    "print('-'*50)\n",
    "print('RSquared value on train:',lm.score(X_train, y_train))\n",
    "print('RSquared value on test:',lm.score(X_test, y_test))"
   ]
  },
  {
   "cell_type": "markdown",
   "metadata": {},
   "source": [
    "Random Forest Regression"
   ]
  },
  {
   "cell_type": "code",
   "execution_count": 41,
   "metadata": {},
   "outputs": [
    {
     "name": "stdout",
     "output_type": "stream",
     "text": [
      "RMSE TrainingData =  1126.6515135596312\n",
      "RMSE TestData =  3511.579929086345\n",
      "--------------------------------------------------\n",
      "RSquared value on train: 0.9024098994794144\n",
      "RSquared value on test: 0.5946660946077149\n"
     ]
    }
   ],
   "source": [
    "RF=RandomForestRegressor(n_jobs=-1)\n",
    "RF.fit(X_train,y_train)\n",
    "\n",
    "#predicting train\n",
    "train_preds1=RF.predict(X_train)\n",
    "#predicting on test\n",
    "test_preds1=RF.predict(X_test)\n",
    "\n",
    "RMSE_train=(np.sqrt(metrics.mean_squared_error(y_train,train_preds1)))\n",
    "RMSE_test=(np.sqrt(metrics.mean_squared_error(y_test,test_preds1)))\n",
    "print(\"RMSE TrainingData = \",str(RMSE_train))\n",
    "print(\"RMSE TestData = \",str(RMSE_test))\n",
    "print('-'*50)\n",
    "print('RSquared value on train:',RF.score(X_train, y_train))\n",
    "print('RSquared value on test:',RF.score(X_test, y_test))"
   ]
  },
  {
   "cell_type": "code",
   "execution_count": 42,
   "metadata": {},
   "outputs": [],
   "source": [
    "RF=RandomForestRegressor(n_jobs=-1)\n",
    "RF.fit(X_train,y_train)\n",
    "\n",
    "pickle.dump(RF, open('random.pkl','wb'))"
   ]
  },
  {
   "cell_type": "markdown",
   "metadata": {},
   "source": [
    "K Nearest Neighbors"
   ]
  },
  {
   "cell_type": "code",
   "execution_count": 43,
   "metadata": {},
   "outputs": [
    {
     "name": "stdout",
     "output_type": "stream",
     "text": [
      "RMSE TrainingData =  2486.168779089787\n",
      "RMSE TestData =  4775.6377781444235\n",
      "--------------------------------------------------\n",
      "RSquared value on train: 0.5247875905145564\n",
      "RSquared value on test: 0.25032923472228163\n"
     ]
    }
   ],
   "source": [
    "knn=KNeighborsRegressor()\n",
    "knn.fit(X_train,y_train)\n",
    "\n",
    "#predicting train\n",
    "train_preds2=knn.predict(X_train)\n",
    "#predicting on test\n",
    "test_preds2=knn.predict(X_test)\n",
    "\n",
    "RMSE_train=(np.sqrt(metrics.mean_squared_error(y_train,train_preds2)))\n",
    "RMSE_test=(np.sqrt(metrics.mean_squared_error(y_test,test_preds2)))\n",
    "print(\"RMSE TrainingData = \",str(RMSE_train))\n",
    "print(\"RMSE TestData = \",str(RMSE_test))\n",
    "print('-'*50)\n",
    "print('RSquared value on train:',knn.score(X_train, y_train))\n",
    "print('RSquared value on test:',knn.score(X_test, y_test))"
   ]
  },
  {
   "cell_type": "code",
   "execution_count": null,
   "metadata": {},
   "outputs": [],
   "source": []
  }
 ],
 "metadata": {
  "kernelspec": {
   "display_name": "Python 3",
   "language": "python",
   "name": "python3"
  },
  "language_info": {
   "codemirror_mode": {
    "name": "ipython",
    "version": 3
   },
   "file_extension": ".py",
   "mimetype": "text/x-python",
   "name": "python",
   "nbconvert_exporter": "python",
   "pygments_lexer": "ipython3",
   "version": "3.7.6"
  }
 },
 "nbformat": 4,
 "nbformat_minor": 4
}
